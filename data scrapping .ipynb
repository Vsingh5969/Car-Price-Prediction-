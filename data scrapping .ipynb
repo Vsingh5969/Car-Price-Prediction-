{
 "cells": [
  {
   "cell_type": "code",
   "execution_count": 1,
   "id": "0867b569",
   "metadata": {},
   "outputs": [],
   "source": [
    "import selenium\n",
    "import pandas as pd \n",
    "from bs4 import BeautifulSoup\n",
    "import time\n",
    "import numpy as np\n",
    "\n",
    "from selenium import webdriver\n",
    "from selenium.common.exceptions import NoSuchElementException,StaleElementReferenceException\n",
    "import requests\n",
    "import re\n",
    "from selenium.webdriver.common.by import By"
   ]
  },
  {
   "cell_type": "code",
   "execution_count": 64,
   "id": "35b85fa7",
   "metadata": {},
   "outputs": [
    {
     "name": "stderr",
     "output_type": "stream",
     "text": [
      "<ipython-input-64-800a74d7be5f>:1: DeprecationWarning: executable_path has been deprecated, please pass in a Service object\n",
      "  driver_B= webdriver.Chrome('chromedriver.exe')\n"
     ]
    }
   ],
   "source": [
    "driver_B= webdriver.Chrome('chromedriver.exe')\n",
    "driver_B.get('https://www.cars24.com/buy-used-car?sort=P&storeCityId=4709&pinId=560001')"
   ]
  },
  {
   "cell_type": "markdown",
   "id": "08d3aa85",
   "metadata": {},
   "source": [
    "# Bangaluru"
   ]
  },
  {
   "cell_type": "code",
   "execution_count": 65,
   "id": "a989dea9",
   "metadata": {},
   "outputs": [],
   "source": [
    "# For Bangalore\n",
    "ScrollNumber_B = 80\n",
    "for i in range(1,ScrollNumber_B):\n",
    "    driver_B.execute_script(\"window.scrollTo(1,50000000)\")\n",
    "    time.sleep(5)\n",
    "file_B = open('cars24_Bangalore.html', 'w', encoding='utf-8')\n",
    "file_B.write(driver_B.page_source)\n",
    "file_B.close()\n",
    "driver_B.close()"
   ]
  },
  {
   "cell_type": "code",
   "execution_count": 67,
   "id": "81b21e16",
   "metadata": {},
   "outputs": [],
   "source": [
    "data_Bl = open('cars24_Bangalore.html','r')\n",
    "soup_Bl = BeautifulSoup(data_Bl, 'html.parser')"
   ]
  },
  {
   "cell_type": "code",
   "execution_count": null,
   "id": "c4a02474",
   "metadata": {},
   "outputs": [],
   "source": []
  },
  {
   "cell_type": "markdown",
   "id": "d118b52e",
   "metadata": {},
   "source": [
    "# chennai"
   ]
  },
  {
   "cell_type": "code",
   "execution_count": 35,
   "id": "3d778c72",
   "metadata": {},
   "outputs": [
    {
     "name": "stderr",
     "output_type": "stream",
     "text": [
      "<ipython-input-35-c84369638a2f>:1: DeprecationWarning: executable_path has been deprecated, please pass in a Service object\n",
      "  driver_C = webdriver.Chrome(\"chromedriver.exe\")\n"
     ]
    }
   ],
   "source": [
    "driver_C = webdriver.Chrome(\"chromedriver.exe\")\n",
    "driver_C.get('https://www.cars24.com/buy-used-car?sort=P&storeCityId=5732&pinId=600001')\n",
    "ScrollNumber_C = 80\n",
    "for i in range(1,ScrollNumber_C):\n",
    "    driver_C.execute_script(\"window.scrollTo(1,50000000)\")\n",
    "    time.sleep(5)\n",
    "file_C = open('cars24_Chennai.html', 'w', encoding='utf-8')\n",
    "file_C.write(driver_C.page_source)\n",
    "file_C.close()\n",
    "driver_C.close()"
   ]
  },
  {
   "cell_type": "code",
   "execution_count": 36,
   "id": "d1e0b1fd",
   "metadata": {},
   "outputs": [],
   "source": [
    "data_C = open('cars24_Chennai.html','r')\n",
    "soup_C = BeautifulSoup(data_C, 'html.parser')"
   ]
  },
  {
   "cell_type": "markdown",
   "id": "96a1144c",
   "metadata": {},
   "source": [
    "# New Delhi "
   ]
  },
  {
   "cell_type": "code",
   "execution_count": 41,
   "id": "890eda9b",
   "metadata": {},
   "outputs": [
    {
     "name": "stderr",
     "output_type": "stream",
     "text": [
      "<ipython-input-41-804dd15408ec>:2: DeprecationWarning: executable_path has been deprecated, please pass in a Service object\n",
      "  driver_D = webdriver.Chrome(\"chromedriver.exe\")\n"
     ]
    }
   ],
   "source": [
    "# For New Delhi\n",
    "driver_D = webdriver.Chrome(\"chromedriver.exe\")\n",
    "driver_D.get('https://www.cars24.com/buy-used-car?sort=P&storeCityId=2&pinId=110001')\n",
    "ScrollNumber_D = 80\n",
    "for i in range(1,ScrollNumber_D):\n",
    "    driver_D.execute_script(\"window.scrollTo(1,50000000)\")\n",
    "    time.sleep(5)\n",
    "file_D = open('cars24_Delhi.html', 'w', encoding='utf-8')\n",
    "file_D.write(driver_D.page_source)\n",
    "file_D.close()\n",
    "driver_D.close()"
   ]
  },
  {
   "cell_type": "code",
   "execution_count": 44,
   "id": "623b5271",
   "metadata": {},
   "outputs": [],
   "source": [
    "data_Dl = open('cars24_Delhi.html','r')\n",
    "soup_Dl = BeautifulSoup(data_D, 'html.parser')"
   ]
  },
  {
   "cell_type": "markdown",
   "id": "894f31e7",
   "metadata": {},
   "source": [
    "# Hyderabad"
   ]
  },
  {
   "cell_type": "code",
   "execution_count": 45,
   "id": "68fe70c5",
   "metadata": {},
   "outputs": [
    {
     "name": "stderr",
     "output_type": "stream",
     "text": [
      "<ipython-input-45-7dc37c481f2c>:2: DeprecationWarning: executable_path has been deprecated, please pass in a Service object\n",
      "  driver_H = webdriver.Chrome(\"chromedriver.exe\")\n"
     ]
    }
   ],
   "source": [
    "# For Hyderabad\n",
    "driver_H = webdriver.Chrome(\"chromedriver.exe\")\n",
    "driver_H.get('https://www.cars24.com/buy-used-cars-hyderabad/?itm_source=Cars24Website&itm_medium=sticky_header')\n",
    "ScrollNumber_H = 80\n",
    "for i in range(1,ScrollNumber_H):\n",
    "    driver_H.execute_script(\"window.scrollTo(1,50000000)\")\n",
    "    time.sleep(5)\n",
    "file_H = open('cars24_Hyderabad.html', 'w', encoding='utf-8')\n",
    "file_H.write(driver_H.page_source)\n",
    "file_H.close()\n",
    "driver_H.close()\n"
   ]
  },
  {
   "cell_type": "code",
   "execution_count": 46,
   "id": "a2b20546",
   "metadata": {},
   "outputs": [],
   "source": [
    "data_H = open('cars24_Hyderabad.html','r')\n",
    "soup_H = BeautifulSoup(data_H, 'html.parser')"
   ]
  },
  {
   "cell_type": "markdown",
   "id": "8d42e73a",
   "metadata": {},
   "source": [
    "# kolkata"
   ]
  },
  {
   "cell_type": "code",
   "execution_count": 47,
   "id": "3defc904",
   "metadata": {},
   "outputs": [
    {
     "name": "stderr",
     "output_type": "stream",
     "text": [
      "<ipython-input-47-48b26e6c30b0>:2: DeprecationWarning: executable_path has been deprecated, please pass in a Service object\n",
      "  driver_K = webdriver.Chrome(\"chromedriver.exe\")\n"
     ]
    }
   ],
   "source": [
    "# For  kolkata\n",
    "driver_K = webdriver.Chrome(\"chromedriver.exe\")\n",
    "driver_K.get('https://www.cars24.com/buy-used-cars-kolkata/?itm_source=Cars24Website&itm_medium=sticky_header')\n",
    "ScrollNumber_K = 80\n",
    "for i in range(1,ScrollNumber_K):\n",
    "    driver_K.execute_script(\"window.scrollTo(1,50000000)\")\n",
    "    time.sleep(5)\n",
    "file_K = open('cars24_kolkata.html', 'w', encoding='utf-8')\n",
    "file_K.write(driver_K.page_source)\n",
    "file_K.close()\n",
    "driver_K.close()"
   ]
  },
  {
   "cell_type": "code",
   "execution_count": 48,
   "id": "869e6db9",
   "metadata": {},
   "outputs": [],
   "source": [
    "data_K = open('cars24_kolkata.html','r')\n",
    "soup_K = BeautifulSoup(data_K, 'html.parser')"
   ]
  },
  {
   "cell_type": "markdown",
   "id": "2f1afb93",
   "metadata": {},
   "source": [
    "# Pune"
   ]
  },
  {
   "cell_type": "code",
   "execution_count": 49,
   "id": "ec4d8ca7",
   "metadata": {},
   "outputs": [
    {
     "name": "stderr",
     "output_type": "stream",
     "text": [
      "<ipython-input-49-0e6e2fe3d978>:2: DeprecationWarning: executable_path has been deprecated, please pass in a Service object\n",
      "  driver_P = webdriver.Chrome(\"chromedriver.exe\")\n"
     ]
    }
   ],
   "source": [
    "# For Pune\n",
    "driver_P = webdriver.Chrome(\"chromedriver.exe\")\n",
    "driver_P.get('https://www.cars24.com/buy-used-cars-Pune/?itm_source=Cars24Website&itm_medium=sticky_header')\n",
    "ScrollNumber_P = 80\n",
    "for i in range(1,ScrollNumber_P):\n",
    "    driver_P.execute_script(\"window.scrollTo(1,50000000)\")\n",
    "    time.sleep(5)\n",
    "file_P = open('cars24_pune.html', 'w', encoding='utf-8')\n",
    "file_P.write(driver_P.page_source)\n",
    "file_P.close()\n",
    "driver_P.close()"
   ]
  },
  {
   "cell_type": "code",
   "execution_count": 50,
   "id": "28fff298",
   "metadata": {},
   "outputs": [],
   "source": [
    "data_P = open('cars24_pune.html','r')\n",
    "soup_P = BeautifulSoup(data_P, 'html.parser')"
   ]
  },
  {
   "cell_type": "markdown",
   "id": "022b2ce3",
   "metadata": {},
   "source": [
    "# Mumbai "
   ]
  },
  {
   "cell_type": "code",
   "execution_count": 51,
   "id": "cf611733",
   "metadata": {},
   "outputs": [
    {
     "name": "stderr",
     "output_type": "stream",
     "text": [
      "<ipython-input-51-bc9685885953>:2: DeprecationWarning: executable_path has been deprecated, please pass in a Service object\n",
      "  driver_M = webdriver.Chrome(\"chromedriver.exe\")\n"
     ]
    }
   ],
   "source": [
    "# For Mumbai\n",
    "driver_M = webdriver.Chrome(\"chromedriver.exe\")\n",
    "driver_M.get('https://www.cars24.com/buy-used-car?sort=P&storeCityId=2378&pinId=400001')\n",
    "ScrollNumber_M = 80\n",
    "for i in range(1,ScrollNumber_M):\n",
    "    driver_M.execute_script(\"window.scrollTo(1,50000000)\")\n",
    "    time.sleep(5)\n",
    "file_M = open('cars24_Mumbai.html', 'w', encoding='utf-8')\n",
    "file_M.write(driver_M.page_source)\n",
    "file_M.close()\n",
    "driver_M.close()"
   ]
  },
  {
   "cell_type": "code",
   "execution_count": 52,
   "id": "80486382",
   "metadata": {},
   "outputs": [],
   "source": [
    "data_M = open('cars24_Mumbai.html','r')\n",
    "soup_M = BeautifulSoup(data_M, 'html.parser')"
   ]
  },
  {
   "cell_type": "markdown",
   "id": "d5eecee1",
   "metadata": {},
   "source": [
    "# Noida "
   ]
  },
  {
   "cell_type": "code",
   "execution_count": 53,
   "id": "5156a5d3",
   "metadata": {},
   "outputs": [
    {
     "name": "stderr",
     "output_type": "stream",
     "text": [
      "<ipython-input-53-e21186adee0b>:2: DeprecationWarning: executable_path has been deprecated, please pass in a Service object\n",
      "  driver_N = webdriver.Chrome(\"chromedriver.exe\")\n"
     ]
    }
   ],
   "source": [
    "# For Noida\n",
    "driver_N = webdriver.Chrome(\"chromedriver.exe\")\n",
    "driver_N.get('https://www.cars24.com/buy-used-car?sort=P&storeCityId=134&pinId=201301')\n",
    "ScrollNumber_N = 80\n",
    "for i in range(1,ScrollNumber_N):\n",
    "    driver_N.execute_script(\"window.scrollTo(1,50000000)\")\n",
    "    time.sleep(5)\n",
    "file_N = open('cars24_Noida.html', 'w', encoding='utf-8')\n",
    "file_N.write(driver_N.page_source)\n",
    "file_N.close()\n",
    "driver_N.close()"
   ]
  },
  {
   "cell_type": "code",
   "execution_count": 54,
   "id": "ffe70382",
   "metadata": {},
   "outputs": [],
   "source": [
    "data_N = open('cars24_Noida.html','r')\n",
    "soup_N = BeautifulSoup(data_N, 'html.parser')"
   ]
  },
  {
   "cell_type": "markdown",
   "id": "e06d2b32",
   "metadata": {},
   "source": [
    "#  Gurgaon"
   ]
  },
  {
   "cell_type": "code",
   "execution_count": 56,
   "id": "f213bf45",
   "metadata": {},
   "outputs": [
    {
     "name": "stderr",
     "output_type": "stream",
     "text": [
      "<ipython-input-56-1db90ca792b7>:2: DeprecationWarning: executable_path has been deprecated, please pass in a Service object\n",
      "  driver_G = webdriver.Chrome(\"chromedriver.exe\")\n"
     ]
    }
   ],
   "source": [
    "\n",
    "driver_G = webdriver.Chrome(\"chromedriver.exe\")\n",
    "driver_G.get('https://www.cars24.com/buy-used-car?sort=P&storeCityId=5&pinId=122001')\n",
    "ScrollNumber_G = 80\n",
    "for i in range(1,ScrollNumber_G):\n",
    "    driver_G.execute_script(\"window.scrollTo(1,50000000)\")\n",
    "    time.sleep(5)\n",
    "file_G = open('cars24_Gurgaon.html', 'w', encoding='utf-8')\n",
    "file_G.write(driver_G.page_source)\n",
    "file_G.close()\n",
    "driver_G.close()"
   ]
  },
  {
   "cell_type": "code",
   "execution_count": 59,
   "id": "24f2f1fb",
   "metadata": {},
   "outputs": [],
   "source": [
    "data_Gu = open('cars24_Gurgaon.html','r')\n",
    "soup_Gu = BeautifulSoup(data_Gu, 'html.parser')"
   ]
  },
  {
   "cell_type": "code",
   "execution_count": 60,
   "id": "642b205d",
   "metadata": {},
   "outputs": [],
   "source": [
    "main_div = 'col-4'\n",
    "sub_div = '_1l4fi'\n",
    "subsub_div = {'name':'_1jpRU','price':'_7udZZ','emi':'_2HFRN' , 'features':'bVR0c'}"
   ]
  },
  {
   "cell_type": "code",
   "execution_count": 61,
   "id": "99c70a46",
   "metadata": {},
   "outputs": [],
   "source": [
    "name_H, name_D, name_M, name_B, name_N, name_G, name_K, name_P, name_C = [],[],[],[],[],[],[],[],[]\n",
    "price_H, price_D, price_K, price_P,price_N, price_G, price_M, price_B, price_C = [],[],[],[],[],[],[],[],[]\n",
    "emi_H, emi_D, emi_P, emi_K, emi_M, emi_N, emi_G, emi_B, emi_C = [],[],[],[],[],[],[],[],[]\n",
    "features_H, features_D, features_M, features_N, features_G, features_K, features_P, features_B, features_C = [],[],[],[],[],[],[],[],[]\n",
    "city_H, city_D, city_M, city_B, city_N, city_G, city_K, city_P, city_C = [],[],[],[],[],[],[],[],[]"
   ]
  },
  {
   "cell_type": "code",
   "execution_count": 62,
   "id": "0571d987",
   "metadata": {},
   "outputs": [],
   "source": [
    "name = []\n",
    "price = []\n",
    "emi = []\n",
    "features = []\n",
    "city = []"
   ]
  },
  {
   "cell_type": "code",
   "execution_count": 70,
   "id": "81995354",
   "metadata": {},
   "outputs": [],
   "source": [
    "soups = [soup_Bl, soup_C, soup_Dl, soup_H, soup_K, soup_P, soup_M, soup_N, soup_Gu]"
   ]
  },
  {
   "cell_type": "code",
   "execution_count": 71,
   "id": "fe884ec8",
   "metadata": {},
   "outputs": [],
   "source": [
    "for x in soup_K.find_all('div',{'class':main_div}):\n",
    "        for i in x.find_all('div',{'class':sub_div}):\n",
    "    \n",
    "            try:\n",
    "                a = i.find('div',{'class':subsub_div['name']})\n",
    "                name_K.append(a.text)\n",
    "            except:\n",
    "                name_K.append(np.nan)\n",
    "            \n",
    "            try:\n",
    "                a = i.find('div',{'class':subsub_div['price']})\n",
    "                price_K.append(a.text)\n",
    "            except:\n",
    "                price_K.append(np.nan)\n",
    "        \n",
    "    \n",
    "            try:\n",
    "                a = i.find('div',{'class':subsub_div['emi']})\n",
    "                emi_K.append(a.text)\n",
    "            except:\n",
    "                emi_K.append(np.nan)\n",
    "        \n",
    "            try:\n",
    "                a = i.find('ul',{'class':subsub_div['features']})\n",
    "                features_K.append(\"\\n\".join([subsub_div.text for subsub_div in a]))\n",
    "            except:\n",
    "                features_K.append(np.nan)\n",
    "            try:\n",
    "                city_K.append('Kolkata')\n",
    "            except:\n",
    "                city_K.append(np.nan)\n",
    "                "
   ]
  },
  {
   "cell_type": "code",
   "execution_count": 72,
   "id": "43caf19f",
   "metadata": {},
   "outputs": [],
   "source": [
    "# Pune         \n",
    "for x in soup_P.find_all('div',{'class':main_div}):\n",
    "        for i in x.find_all('div',{'class':sub_div}):\n",
    "    \n",
    "            try:\n",
    "                a = i.find('div',{'class':subsub_div['name']})\n",
    "                name_P.append(a.text)\n",
    "            except:\n",
    "                name_P.append(np.nan)\n",
    "            \n",
    "            try:\n",
    "                a = i.find('div',{'class':subsub_div['price']})\n",
    "                price_P.append(a.text)\n",
    "            except:\n",
    "                price_P.append(np.nan)\n",
    "        \n",
    "    \n",
    "            try:\n",
    "                a = i.find('div',{'class':subsub_div['emi']})\n",
    "                emi_P.append(a.text)\n",
    "            except:\n",
    "                emi_P.append(np.nan)\n",
    "        \n",
    "            try:\n",
    "                a = i.find('ul',{'class':subsub_div['features']})\n",
    "                features_P.append(\"\\n\".join([subsub_div.text for subsub_div in a]))\n",
    "            except:\n",
    "                features_P.append(np.nan)\n",
    "            try:\n",
    "                city_P.append('Pune')\n",
    "            except:\n",
    "                city_P.append(np.nan)"
   ]
  },
  {
   "cell_type": "code",
   "execution_count": null,
   "id": "45b73b9f",
   "metadata": {},
   "outputs": [],
   "source": []
  },
  {
   "cell_type": "code",
   "execution_count": 73,
   "id": "ae0fd670",
   "metadata": {},
   "outputs": [],
   "source": [
    "# Gurgaon         \n",
    "for x in soup_Gu.find_all('div',{'class':main_div}):\n",
    "        for i in x.find_all('div',{'class':sub_div}):\n",
    "    \n",
    "            try:\n",
    "                a = i.find('div',{'class':subsub_div['name']})\n",
    "                name_G.append(a.text)\n",
    "            except:\n",
    "                name_G.append(np.nan)\n",
    "            \n",
    "            try:\n",
    "                a = i.find('div',{'class':subsub_div['price']})\n",
    "                price_G.append(a.text)\n",
    "            except:\n",
    "                price_G.append(np.nan)\n",
    "        \n",
    "    \n",
    "            try:\n",
    "                a = i.find('div',{'class':subsub_div['emi']})\n",
    "                emi_G.append(a.text)\n",
    "            except:\n",
    "                emi_G.append(np.nan)\n",
    "        \n",
    "            try:\n",
    "                a = i.find('ul',{'class':subsub_div['features']})\n",
    "                features_G.append(\"\\n\".join([subsub_div.text for subsub_div in a]))\n",
    "            except:\n",
    "                features_G.append(np.nan)\n",
    "            try:\n",
    "                city_G.append('Gurgaon')\n",
    "            except:\n",
    "                city_G.append(np.nan)"
   ]
  },
  {
   "cell_type": "code",
   "execution_count": 74,
   "id": "d05a69ae",
   "metadata": {},
   "outputs": [],
   "source": [
    "for x in soup_N.find_all('div',{'class':main_div}):\n",
    "        for i in x.find_all('div',{'class':sub_div}):\n",
    "    \n",
    "            try:\n",
    "                a = i.find('div',{'class':subsub_div['name']})\n",
    "                name_N.append(a.text)\n",
    "            except:\n",
    "                name_N.append(np.nan)\n",
    "            \n",
    "            try:\n",
    "                a = i.find('div',{'class':subsub_div['price']})\n",
    "                price_N.append(a.text)\n",
    "            except:\n",
    "                price_N.append(np.nan)\n",
    "        \n",
    "    \n",
    "            try:\n",
    "                a = i.find('div',{'class':subsub_div['emi']})\n",
    "                emi_N.append(a.text)\n",
    "            except:\n",
    "                emi_N.append(np.nan)\n",
    "        \n",
    "            try:\n",
    "                a = i.find('ul',{'class':subsub_div['features']})\n",
    "                features_N.append(\"\\n\".join([subsub_div.text for subsub_div in a]))\n",
    "            except:\n",
    "                features_N.append(np.nan)\n",
    "            try:\n",
    "                city_N.append('Noida')\n",
    "            except:\n",
    "                city_N.append(np.nan)"
   ]
  },
  {
   "cell_type": "code",
   "execution_count": 75,
   "id": "b27765d9",
   "metadata": {},
   "outputs": [],
   "source": [
    "# Bangalore         \n",
    "for x in soup_Bl.find_all('div',{'class':main_div}):\n",
    "        for i in x.find_all('div',{'class':sub_div}):\n",
    "    \n",
    "            try:\n",
    "                a = i.find('div',{'class':subsub_div['name']})\n",
    "                name_B.append(a.text)\n",
    "            except:\n",
    "                name_B.append(np.nan)\n",
    "            \n",
    "            try:\n",
    "                a = i.find('div',{'class':subsub_div['price']})\n",
    "                price_B.append(a.text)\n",
    "            except:\n",
    "                price_B.append(np.nan)\n",
    "        \n",
    "    \n",
    "            try:\n",
    "                a = i.find('div',{'class':subsub_div['emi']})\n",
    "                emi_B.append(a.text)\n",
    "            except:\n",
    "                emi_B.append(np.nan)\n",
    "        \n",
    "            try:\n",
    "                a = i.find('ul',{'class':subsub_div['features']})\n",
    "                features_B.append(\"\\n\".join([subsub_div.text for subsub_div in a]))\n",
    "            except:\n",
    "                features_B.append(np.nan)\n",
    "            try:\n",
    "                city_B.append('Bangalore')\n",
    "            except:\n",
    "                city_B.append(np.nan)"
   ]
  },
  {
   "cell_type": "code",
   "execution_count": 76,
   "id": "c51a29c7",
   "metadata": {},
   "outputs": [],
   "source": [
    "# Chennai          \n",
    "for x in soup_C.find_all('div',{'class':main_div}):\n",
    "        for i in x.find_all('div',{'class':sub_div}):\n",
    "    \n",
    "            try:\n",
    "                a = i.find('div',{'class':subsub_div['name']})\n",
    "                name_C.append(a.text)\n",
    "            except:\n",
    "                name_C.append(np.nan)\n",
    "            \n",
    "            try:\n",
    "                a = i.find('div',{'class':subsub_div['price']})\n",
    "                price_C.append(a.text)\n",
    "            except:\n",
    "                price_C.append(np.nan)\n",
    "        \n",
    "    \n",
    "            try:\n",
    "                a = i.find('div',{'class':subsub_div['emi']})\n",
    "                emi_C.append(a.text)\n",
    "            except:\n",
    "                emi_C.append(np.nan)\n",
    "        \n",
    "            try:\n",
    "                a = i.find('ul',{'class':subsub_div['features']})\n",
    "                features_C.append(\"\\n\".join([subsub_div.text for subsub_div in a]))\n",
    "            except:\n",
    "                features_C.append(np.nan)\n",
    "            try:\n",
    "                city_C.append('Chennai')\n",
    "            except:\n",
    "                city_C.append(np.nan)"
   ]
  },
  {
   "cell_type": "code",
   "execution_count": 77,
   "id": "a6249dde",
   "metadata": {},
   "outputs": [],
   "source": [
    "# Delhi          \n",
    "for x in soup_Dl.find_all('div',{'class':main_div}):\n",
    "        for i in x.find_all('div',{'class':sub_div}):\n",
    "    \n",
    "            try:\n",
    "                a = i.find('div',{'class':subsub_div['name']})\n",
    "                name_D.append(a.text)\n",
    "            except:\n",
    "                name_D.append(np.nan)\n",
    "            \n",
    "            try:\n",
    "                a = i.find('div',{'class':subsub_div['price']})\n",
    "                price_D.append(a.text)\n",
    "            except:\n",
    "                price_D.append(np.nan)\n",
    "        \n",
    "    \n",
    "            try:\n",
    "                a = i.find('div',{'class':subsub_div['emi']})\n",
    "                emi_D.append(a.text)\n",
    "            except:\n",
    "                emi_D.append(np.nan)\n",
    "        \n",
    "            try:\n",
    "                a = i.find('ul',{'class':subsub_div['features']})\n",
    "                features_D.append(\"\\n\".join([subsub_div.text for subsub_div in a]))\n",
    "            except:\n",
    "                features_D.append(np.nan)\n",
    "            try:\n",
    "                city_D.append('Delhi')\n",
    "            except:\n",
    "                city_D.append(np.nan)"
   ]
  },
  {
   "cell_type": "code",
   "execution_count": 78,
   "id": "6679cca3",
   "metadata": {},
   "outputs": [],
   "source": [
    "# Hyderabad\n",
    "for x in soup_H.find_all('div',{'class':main_div}):\n",
    "        for i in x.find_all('div',{'class':sub_div}):\n",
    "    \n",
    "            try:\n",
    "                a = i.find('div',{'class':subsub_div['name']})\n",
    "                name_H.append(a.text)\n",
    "            except:\n",
    "                name_H.append(np.nan)\n",
    "            \n",
    "            try:\n",
    "                a = i.find('div',{'class':subsub_div['price']})\n",
    "                price_H.append(a.text)\n",
    "            except:\n",
    "                price_H.append(np.nan)\n",
    "        \n",
    "    \n",
    "            try:\n",
    "                a = i.find('div',{'class':subsub_div['emi']})\n",
    "                emi_H.append(a.text)\n",
    "            except:\n",
    "                emi_H.append(np.nan)\n",
    "        \n",
    "            try:\n",
    "                a = i.find('ul',{'class':subsub_div['features']})\n",
    "                features_H.append(\"\\n\".join([subsub_div.text for subsub_div in a]))\n",
    "            except:\n",
    "                features_H.append(np.nan)\n",
    "            try:\n",
    "                city_H.append('Hyderabad')\n",
    "            except:\n",
    "                city_H.append(np.nan)"
   ]
  },
  {
   "cell_type": "code",
   "execution_count": 79,
   "id": "6783687e",
   "metadata": {},
   "outputs": [],
   "source": [
    "# Mumbai         \n",
    "for x in soup_M.find_all('div',{'class':main_div}):\n",
    "        for i in x.find_all('div',{'class':sub_div}):\n",
    "    \n",
    "            try:\n",
    "                a = i.find('div',{'class':subsub_div['name']})\n",
    "                name_M.append(a.text)\n",
    "            except:\n",
    "                name_M.append(np.nan)\n",
    "            \n",
    "            try:\n",
    "                a = i.find('div',{'class':subsub_div['price']})\n",
    "                price_M.append(a.text)\n",
    "            except:\n",
    "                price_M.append(np.nan)\n",
    "        \n",
    "    \n",
    "            try:\n",
    "                a = i.find('div',{'class':subsub_div['emi']})\n",
    "                emi_M.append(a.text)\n",
    "            except:\n",
    "                emi_M.append(np.nan)\n",
    "        \n",
    "            try:\n",
    "                a = i.find('ul',{'class':subsub_div['features']})\n",
    "                features_M.append(\"\\n\".join([subsub_div.text for subsub_div in a]))\n",
    "            except:\n",
    "                features_M.append(np.nan)\n",
    "            try:\n",
    "                city_M.append('Mumbai')\n",
    "            except:\n",
    "                city_M.append(np.nan)"
   ]
  },
  {
   "cell_type": "code",
   "execution_count": 80,
   "id": "ba757aa4",
   "metadata": {},
   "outputs": [],
   "source": [
    "name = name + name_H + name_D + name_M + name_B + name_P + name_K + name_C + name_N +name_G\n",
    "price = price + price_H + price_D + price_M + price_B + price_C+ price_P + price_K + price_N + price_G\n",
    "emi = emi + emi_H + emi_D + emi_M + emi_B + emi_C + emi_K + emi_P + emi_N + emi_G\n",
    "features = features + features_H + features_D + features_M + features_B + features_C + features_K + features_P + features_N +features_G\n",
    "city = city + city_H + city_D + city_M + city_B + city_C + city_K + city_P + city_N + city_G"
   ]
  },
  {
   "cell_type": "code",
   "execution_count": 81,
   "id": "7da23243",
   "metadata": {},
   "outputs": [],
   "source": [
    "d_cars=({\"Car Name\":name, 'Price':price, \n",
    "                  \"EMI\":emi, \"Features\":features,\"Location\":city})"
   ]
  },
  {
   "cell_type": "code",
   "execution_count": 82,
   "id": "f5a47db6",
   "metadata": {},
   "outputs": [
    {
     "data": {
      "text/html": [
       "<div>\n",
       "<style scoped>\n",
       "    .dataframe tbody tr th:only-of-type {\n",
       "        vertical-align: middle;\n",
       "    }\n",
       "\n",
       "    .dataframe tbody tr th {\n",
       "        vertical-align: top;\n",
       "    }\n",
       "\n",
       "    .dataframe thead th {\n",
       "        text-align: right;\n",
       "    }\n",
       "</style>\n",
       "<table border=\"1\" class=\"dataframe\">\n",
       "  <thead>\n",
       "    <tr style=\"text-align: right;\">\n",
       "      <th></th>\n",
       "      <th>Car Name</th>\n",
       "      <th>Price</th>\n",
       "      <th>EMI</th>\n",
       "      <th>Features</th>\n",
       "      <th>Location</th>\n",
       "    </tr>\n",
       "  </thead>\n",
       "  <tbody>\n",
       "    <tr>\n",
       "      <th>0</th>\n",
       "      <td>2010 Hyundai i10SPORTZ 1.2 Manual</td>\n",
       "      <td>â‚¹2,88,599</td>\n",
       "      <td>â‚¹6,420/month</td>\n",
       "      <td>73,586 km\\n2nd Owner\\nPetrol</td>\n",
       "      <td>Hyderabad</td>\n",
       "    </tr>\n",
       "    <tr>\n",
       "      <th>1</th>\n",
       "      <td>2011 Hyundai i10SPORTZ 1.2 KAPPA2 Manual</td>\n",
       "      <td>â‚¹2,92,899</td>\n",
       "      <td>â‚¹6,515/month</td>\n",
       "      <td>98,639 km\\n2nd Owner\\nPetrol</td>\n",
       "      <td>Hyderabad</td>\n",
       "    </tr>\n",
       "    <tr>\n",
       "      <th>2</th>\n",
       "      <td>2012 Hyundai Santro XingGLS Manual</td>\n",
       "      <td>â‚¹2,92,599</td>\n",
       "      <td>â‚¹6,509/month</td>\n",
       "      <td>45,417 km\\n1st Owner\\nPetrol</td>\n",
       "      <td>Hyderabad</td>\n",
       "    </tr>\n",
       "    <tr>\n",
       "      <th>3</th>\n",
       "      <td>2013 Maruti Alto 800LXI Manual</td>\n",
       "      <td>â‚¹2,67,899</td>\n",
       "      <td>â‚¹5,959/month</td>\n",
       "      <td>32,345 km\\n2nd Owner\\nPetrol</td>\n",
       "      <td>Hyderabad</td>\n",
       "    </tr>\n",
       "    <tr>\n",
       "      <th>4</th>\n",
       "      <td>2010 Honda CityS MT PETROL Manual</td>\n",
       "      <td>â‚¹4,59,599</td>\n",
       "      <td>â‚¹10,224/month</td>\n",
       "      <td>71,117 km\\n2nd Owner\\nPetrol</td>\n",
       "      <td>Hyderabad</td>\n",
       "    </tr>\n",
       "  </tbody>\n",
       "</table>\n",
       "</div>"
      ],
      "text/plain": [
       "                                   Car Name        Price              EMI  \\\n",
       "0         2010 Hyundai i10SPORTZ 1.2 Manual  â‚¹2,88,599   â‚¹6,420/month   \n",
       "1  2011 Hyundai i10SPORTZ 1.2 KAPPA2 Manual  â‚¹2,92,899   â‚¹6,515/month   \n",
       "2        2012 Hyundai Santro XingGLS Manual  â‚¹2,92,599   â‚¹6,509/month   \n",
       "3            2013 Maruti Alto 800LXI Manual  â‚¹2,67,899   â‚¹5,959/month   \n",
       "4         2010 Honda CityS MT PETROL Manual  â‚¹4,59,599  â‚¹10,224/month   \n",
       "\n",
       "                       Features   Location  \n",
       "0  73,586 km\\n2nd Owner\\nPetrol  Hyderabad  \n",
       "1  98,639 km\\n2nd Owner\\nPetrol  Hyderabad  \n",
       "2  45,417 km\\n1st Owner\\nPetrol  Hyderabad  \n",
       "3  32,345 km\\n2nd Owner\\nPetrol  Hyderabad  \n",
       "4  71,117 km\\n2nd Owner\\nPetrol  Hyderabad  "
      ]
     },
     "execution_count": 82,
     "metadata": {},
     "output_type": "execute_result"
    }
   ],
   "source": [
    "df = pd.DataFrame(d_cars)\n",
    "df.head()"
   ]
  },
  {
   "cell_type": "code",
   "execution_count": 84,
   "id": "a30739e1",
   "metadata": {},
   "outputs": [],
   "source": [
    "regex = r'^\\d+\\s(\\w+)\\s'\n",
    "df['Car Brand'] = df['Car Name'].apply(lambda x: re.compile(regex).findall(x)[0])\n",
    "\n",
    "regex = r'^\\d+\\s\\w+\\s(.*?)\\s\\w+$'\n",
    "df['Model'] = df['Car Name'].apply(lambda x: re.compile(regex).findall(x))\n",
    "\n",
    "regex = r'â‚¹(.*)'\n",
    "df['Price'] = df['Price'].apply(lambda x: re.compile(regex).findall(x)[0])\n",
    "\n",
    "regex = r'^\\d+'\n",
    "df['Model Year'] = df['Car Name'].apply(lambda x: re.compile(regex).findall(x)[0])\n",
    "\n",
    "regex = r'\\w+$'\n",
    "df['Gear'] = df['Car Name'].apply(lambda x: re.compile(regex).findall(x))\n",
    "\n",
    "regex = r'^(.*)\\skm'\n",
    "df['Driven (Kms)'] = df['Features'].apply(lambda x: re.compile(regex).findall(x)[0])\n",
    "\n",
    "regex = r'\\n(\\d+)\\w+\\sOwner\\n'\n",
    "df['Ownership'] = df['Features'].apply(lambda x: re.compile(regex).findall(x)[0])\n",
    "\n",
    "regex = r'\\n(.*)$'\n",
    "df['Fuel'] = df['Features'].apply(lambda x: re.compile(regex).findall(x)[0])\n",
    "\n",
    "regex = r'â‚¹(.*)/month'\n",
    "df['EMI (monthly)'] = df['EMI'].apply(lambda x: re.compile(regex).findall(x)[0])"
   ]
  },
  {
   "cell_type": "code",
   "execution_count": 85,
   "id": "77dda1ac",
   "metadata": {},
   "outputs": [
    {
     "data": {
      "text/html": [
       "<div>\n",
       "<style scoped>\n",
       "    .dataframe tbody tr th:only-of-type {\n",
       "        vertical-align: middle;\n",
       "    }\n",
       "\n",
       "    .dataframe tbody tr th {\n",
       "        vertical-align: top;\n",
       "    }\n",
       "\n",
       "    .dataframe thead th {\n",
       "        text-align: right;\n",
       "    }\n",
       "</style>\n",
       "<table border=\"1\" class=\"dataframe\">\n",
       "  <thead>\n",
       "    <tr style=\"text-align: right;\">\n",
       "      <th></th>\n",
       "      <th>Car Name</th>\n",
       "      <th>Price</th>\n",
       "      <th>EMI</th>\n",
       "      <th>Features</th>\n",
       "      <th>Location</th>\n",
       "      <th>Car Brand</th>\n",
       "      <th>Model</th>\n",
       "      <th>Model Year</th>\n",
       "      <th>Gear</th>\n",
       "      <th>Driven (Kms)</th>\n",
       "      <th>Ownership</th>\n",
       "      <th>Fuel</th>\n",
       "      <th>EMI (monthly)</th>\n",
       "    </tr>\n",
       "  </thead>\n",
       "  <tbody>\n",
       "    <tr>\n",
       "      <th>0</th>\n",
       "      <td>2010 Hyundai i10SPORTZ 1.2 Manual</td>\n",
       "      <td>2,88,599</td>\n",
       "      <td>â‚¹6,420/month</td>\n",
       "      <td>73,586 km\\n2nd Owner\\nPetrol</td>\n",
       "      <td>Hyderabad</td>\n",
       "      <td>Hyundai</td>\n",
       "      <td>[i10SPORTZ 1.2]</td>\n",
       "      <td>2010</td>\n",
       "      <td>[Manual]</td>\n",
       "      <td>73,586</td>\n",
       "      <td>2</td>\n",
       "      <td>Petrol</td>\n",
       "      <td>6,420</td>\n",
       "    </tr>\n",
       "    <tr>\n",
       "      <th>1</th>\n",
       "      <td>2011 Hyundai i10SPORTZ 1.2 KAPPA2 Manual</td>\n",
       "      <td>2,92,899</td>\n",
       "      <td>â‚¹6,515/month</td>\n",
       "      <td>98,639 km\\n2nd Owner\\nPetrol</td>\n",
       "      <td>Hyderabad</td>\n",
       "      <td>Hyundai</td>\n",
       "      <td>[i10SPORTZ 1.2 KAPPA2]</td>\n",
       "      <td>2011</td>\n",
       "      <td>[Manual]</td>\n",
       "      <td>98,639</td>\n",
       "      <td>2</td>\n",
       "      <td>Petrol</td>\n",
       "      <td>6,515</td>\n",
       "    </tr>\n",
       "    <tr>\n",
       "      <th>2</th>\n",
       "      <td>2012 Hyundai Santro XingGLS Manual</td>\n",
       "      <td>2,92,599</td>\n",
       "      <td>â‚¹6,509/month</td>\n",
       "      <td>45,417 km\\n1st Owner\\nPetrol</td>\n",
       "      <td>Hyderabad</td>\n",
       "      <td>Hyundai</td>\n",
       "      <td>[Santro XingGLS]</td>\n",
       "      <td>2012</td>\n",
       "      <td>[Manual]</td>\n",
       "      <td>45,417</td>\n",
       "      <td>1</td>\n",
       "      <td>Petrol</td>\n",
       "      <td>6,509</td>\n",
       "    </tr>\n",
       "    <tr>\n",
       "      <th>3</th>\n",
       "      <td>2013 Maruti Alto 800LXI Manual</td>\n",
       "      <td>2,67,899</td>\n",
       "      <td>â‚¹5,959/month</td>\n",
       "      <td>32,345 km\\n2nd Owner\\nPetrol</td>\n",
       "      <td>Hyderabad</td>\n",
       "      <td>Maruti</td>\n",
       "      <td>[Alto 800LXI]</td>\n",
       "      <td>2013</td>\n",
       "      <td>[Manual]</td>\n",
       "      <td>32,345</td>\n",
       "      <td>2</td>\n",
       "      <td>Petrol</td>\n",
       "      <td>5,959</td>\n",
       "    </tr>\n",
       "    <tr>\n",
       "      <th>4</th>\n",
       "      <td>2010 Honda CityS MT PETROL Manual</td>\n",
       "      <td>4,59,599</td>\n",
       "      <td>â‚¹10,224/month</td>\n",
       "      <td>71,117 km\\n2nd Owner\\nPetrol</td>\n",
       "      <td>Hyderabad</td>\n",
       "      <td>Honda</td>\n",
       "      <td>[CityS MT PETROL]</td>\n",
       "      <td>2010</td>\n",
       "      <td>[Manual]</td>\n",
       "      <td>71,117</td>\n",
       "      <td>2</td>\n",
       "      <td>Petrol</td>\n",
       "      <td>10,224</td>\n",
       "    </tr>\n",
       "  </tbody>\n",
       "</table>\n",
       "</div>"
      ],
      "text/plain": [
       "                                   Car Name     Price              EMI  \\\n",
       "0         2010 Hyundai i10SPORTZ 1.2 Manual  2,88,599   â‚¹6,420/month   \n",
       "1  2011 Hyundai i10SPORTZ 1.2 KAPPA2 Manual  2,92,899   â‚¹6,515/month   \n",
       "2        2012 Hyundai Santro XingGLS Manual  2,92,599   â‚¹6,509/month   \n",
       "3            2013 Maruti Alto 800LXI Manual  2,67,899   â‚¹5,959/month   \n",
       "4         2010 Honda CityS MT PETROL Manual  4,59,599  â‚¹10,224/month   \n",
       "\n",
       "                       Features   Location Car Brand                   Model  \\\n",
       "0  73,586 km\\n2nd Owner\\nPetrol  Hyderabad   Hyundai         [i10SPORTZ 1.2]   \n",
       "1  98,639 km\\n2nd Owner\\nPetrol  Hyderabad   Hyundai  [i10SPORTZ 1.2 KAPPA2]   \n",
       "2  45,417 km\\n1st Owner\\nPetrol  Hyderabad   Hyundai        [Santro XingGLS]   \n",
       "3  32,345 km\\n2nd Owner\\nPetrol  Hyderabad    Maruti           [Alto 800LXI]   \n",
       "4  71,117 km\\n2nd Owner\\nPetrol  Hyderabad     Honda       [CityS MT PETROL]   \n",
       "\n",
       "  Model Year      Gear Driven (Kms) Ownership    Fuel EMI (monthly)  \n",
       "0       2010  [Manual]       73,586         2  Petrol         6,420  \n",
       "1       2011  [Manual]       98,639         2  Petrol         6,515  \n",
       "2       2012  [Manual]       45,417         1  Petrol         6,509  \n",
       "3       2013  [Manual]       32,345         2  Petrol         5,959  \n",
       "4       2010  [Manual]       71,117         2  Petrol        10,224  "
      ]
     },
     "execution_count": 85,
     "metadata": {},
     "output_type": "execute_result"
    }
   ],
   "source": [
    "df.head()"
   ]
  },
  {
   "cell_type": "code",
   "execution_count": 86,
   "id": "cd9731ed",
   "metadata": {},
   "outputs": [],
   "source": [
    "cols = ['Car Name', 'Features', 'EMI']\n",
    "columns = ['Car Brand', 'Model', 'Price', 'Model Year','Location' ,'Fuel', 'Driven (Kms)', 'Gear', 'Ownership', 'EMI (monthly)']\n",
    "df = df.drop(cols,axis=1)\n",
    "df = df[columns]"
   ]
  },
  {
   "cell_type": "code",
   "execution_count": 87,
   "id": "4a0463c5",
   "metadata": {},
   "outputs": [],
   "source": [
    "df['Model'] = df['Model'].apply(lambda x: ''.join(x))\n",
    "df['Gear']  = df['Gear'].apply(lambda x: ''.join(x))\n",
    "df['Price'] = df['Price'].apply(lambda x: x.replace(',',''))\n",
    "df['EMI (monthly)'] = df['EMI (monthly)'].apply(lambda x: x.replace(',',''))\n",
    "df['Driven (Kms)'] = df['Driven (Kms)'].apply(lambda x: x.replace(',',''))"
   ]
  },
  {
   "cell_type": "code",
   "execution_count": 88,
   "id": "e1bd6ab1",
   "metadata": {},
   "outputs": [
    {
     "data": {
      "text/html": [
       "<div>\n",
       "<style scoped>\n",
       "    .dataframe tbody tr th:only-of-type {\n",
       "        vertical-align: middle;\n",
       "    }\n",
       "\n",
       "    .dataframe tbody tr th {\n",
       "        vertical-align: top;\n",
       "    }\n",
       "\n",
       "    .dataframe thead th {\n",
       "        text-align: right;\n",
       "    }\n",
       "</style>\n",
       "<table border=\"1\" class=\"dataframe\">\n",
       "  <thead>\n",
       "    <tr style=\"text-align: right;\">\n",
       "      <th></th>\n",
       "      <th>Car Brand</th>\n",
       "      <th>Model</th>\n",
       "      <th>Price</th>\n",
       "      <th>Model Year</th>\n",
       "      <th>Location</th>\n",
       "      <th>Fuel</th>\n",
       "      <th>Driven (Kms)</th>\n",
       "      <th>Gear</th>\n",
       "      <th>Ownership</th>\n",
       "      <th>EMI (monthly)</th>\n",
       "    </tr>\n",
       "  </thead>\n",
       "  <tbody>\n",
       "    <tr>\n",
       "      <th>0</th>\n",
       "      <td>Hyundai</td>\n",
       "      <td>i10SPORTZ 1.2</td>\n",
       "      <td>288599</td>\n",
       "      <td>2010</td>\n",
       "      <td>Hyderabad</td>\n",
       "      <td>Petrol</td>\n",
       "      <td>73586</td>\n",
       "      <td>Manual</td>\n",
       "      <td>2</td>\n",
       "      <td>6420</td>\n",
       "    </tr>\n",
       "    <tr>\n",
       "      <th>1</th>\n",
       "      <td>Hyundai</td>\n",
       "      <td>i10SPORTZ 1.2 KAPPA2</td>\n",
       "      <td>292899</td>\n",
       "      <td>2011</td>\n",
       "      <td>Hyderabad</td>\n",
       "      <td>Petrol</td>\n",
       "      <td>98639</td>\n",
       "      <td>Manual</td>\n",
       "      <td>2</td>\n",
       "      <td>6515</td>\n",
       "    </tr>\n",
       "    <tr>\n",
       "      <th>2</th>\n",
       "      <td>Hyundai</td>\n",
       "      <td>Santro XingGLS</td>\n",
       "      <td>292599</td>\n",
       "      <td>2012</td>\n",
       "      <td>Hyderabad</td>\n",
       "      <td>Petrol</td>\n",
       "      <td>45417</td>\n",
       "      <td>Manual</td>\n",
       "      <td>1</td>\n",
       "      <td>6509</td>\n",
       "    </tr>\n",
       "    <tr>\n",
       "      <th>3</th>\n",
       "      <td>Maruti</td>\n",
       "      <td>Alto 800LXI</td>\n",
       "      <td>267899</td>\n",
       "      <td>2013</td>\n",
       "      <td>Hyderabad</td>\n",
       "      <td>Petrol</td>\n",
       "      <td>32345</td>\n",
       "      <td>Manual</td>\n",
       "      <td>2</td>\n",
       "      <td>5959</td>\n",
       "    </tr>\n",
       "    <tr>\n",
       "      <th>4</th>\n",
       "      <td>Honda</td>\n",
       "      <td>CityS MT PETROL</td>\n",
       "      <td>459599</td>\n",
       "      <td>2010</td>\n",
       "      <td>Hyderabad</td>\n",
       "      <td>Petrol</td>\n",
       "      <td>71117</td>\n",
       "      <td>Manual</td>\n",
       "      <td>2</td>\n",
       "      <td>10224</td>\n",
       "    </tr>\n",
       "    <tr>\n",
       "      <th>...</th>\n",
       "      <td>...</td>\n",
       "      <td>...</td>\n",
       "      <td>...</td>\n",
       "      <td>...</td>\n",
       "      <td>...</td>\n",
       "      <td>...</td>\n",
       "      <td>...</td>\n",
       "      <td>...</td>\n",
       "      <td>...</td>\n",
       "      <td>...</td>\n",
       "    </tr>\n",
       "    <tr>\n",
       "      <th>3070</th>\n",
       "      <td>Hyundai</td>\n",
       "      <td>i20SPORTZ 1.2 VTVT</td>\n",
       "      <td>399699</td>\n",
       "      <td>2014</td>\n",
       "      <td>Noida</td>\n",
       "      <td>Petrol</td>\n",
       "      <td>83811</td>\n",
       "      <td>Manual</td>\n",
       "      <td>1</td>\n",
       "      <td>8891</td>\n",
       "    </tr>\n",
       "    <tr>\n",
       "      <th>3071</th>\n",
       "      <td>Nissan</td>\n",
       "      <td></td>\n",
       "      <td>703099</td>\n",
       "      <td>2021</td>\n",
       "      <td>Noida</td>\n",
       "      <td>Petrol</td>\n",
       "      <td>15844</td>\n",
       "      <td></td>\n",
       "      <td>1</td>\n",
       "      <td>15640</td>\n",
       "    </tr>\n",
       "    <tr>\n",
       "      <th>3072</th>\n",
       "      <td>Maruti</td>\n",
       "      <td>SwiftVXI</td>\n",
       "      <td>560599</td>\n",
       "      <td>2018</td>\n",
       "      <td>Noida</td>\n",
       "      <td>Petrol</td>\n",
       "      <td>11917</td>\n",
       "      <td>Manual</td>\n",
       "      <td>1</td>\n",
       "      <td>12470</td>\n",
       "    </tr>\n",
       "    <tr>\n",
       "      <th>3073</th>\n",
       "      <td>Hyundai</td>\n",
       "      <td>Elite i20MAGNA 1.2</td>\n",
       "      <td>494199</td>\n",
       "      <td>2016</td>\n",
       "      <td>Noida</td>\n",
       "      <td>Petrol</td>\n",
       "      <td>20223</td>\n",
       "      <td>Manual</td>\n",
       "      <td>2</td>\n",
       "      <td>10993</td>\n",
       "    </tr>\n",
       "    <tr>\n",
       "      <th>3074</th>\n",
       "      <td>Hyundai</td>\n",
       "      <td>i10ERA 1.1 IRDE</td>\n",
       "      <td>271699</td>\n",
       "      <td>2013</td>\n",
       "      <td>Noida</td>\n",
       "      <td>Petrol</td>\n",
       "      <td>37928</td>\n",
       "      <td>Manual</td>\n",
       "      <td>1</td>\n",
       "      <td>6044</td>\n",
       "    </tr>\n",
       "  </tbody>\n",
       "</table>\n",
       "<p>3075 rows × 10 columns</p>\n",
       "</div>"
      ],
      "text/plain": [
       "     Car Brand                 Model   Price Model Year   Location    Fuel  \\\n",
       "0      Hyundai         i10SPORTZ 1.2  288599       2010  Hyderabad  Petrol   \n",
       "1      Hyundai  i10SPORTZ 1.2 KAPPA2  292899       2011  Hyderabad  Petrol   \n",
       "2      Hyundai        Santro XingGLS  292599       2012  Hyderabad  Petrol   \n",
       "3       Maruti           Alto 800LXI  267899       2013  Hyderabad  Petrol   \n",
       "4        Honda       CityS MT PETROL  459599       2010  Hyderabad  Petrol   \n",
       "...        ...                   ...     ...        ...        ...     ...   \n",
       "3070   Hyundai    i20SPORTZ 1.2 VTVT  399699       2014      Noida  Petrol   \n",
       "3071    Nissan                        703099       2021      Noida  Petrol   \n",
       "3072    Maruti              SwiftVXI  560599       2018      Noida  Petrol   \n",
       "3073   Hyundai    Elite i20MAGNA 1.2  494199       2016      Noida  Petrol   \n",
       "3074   Hyundai       i10ERA 1.1 IRDE  271699       2013      Noida  Petrol   \n",
       "\n",
       "     Driven (Kms)    Gear Ownership EMI (monthly)  \n",
       "0           73586  Manual         2          6420  \n",
       "1           98639  Manual         2          6515  \n",
       "2           45417  Manual         1          6509  \n",
       "3           32345  Manual         2          5959  \n",
       "4           71117  Manual         2         10224  \n",
       "...           ...     ...       ...           ...  \n",
       "3070        83811  Manual         1          8891  \n",
       "3071        15844                 1         15640  \n",
       "3072        11917  Manual         1         12470  \n",
       "3073        20223  Manual         2         10993  \n",
       "3074        37928  Manual         1          6044  \n",
       "\n",
       "[3075 rows x 10 columns]"
      ]
     },
     "execution_count": 88,
     "metadata": {},
     "output_type": "execute_result"
    }
   ],
   "source": [
    "df"
   ]
  },
  {
   "cell_type": "code",
   "execution_count": 89,
   "id": "1d6163cb",
   "metadata": {},
   "outputs": [],
   "source": [
    "df.to_csv(\"Cars24_car.csv\")"
   ]
  },
  {
   "cell_type": "code",
   "execution_count": null,
   "id": "165187a8",
   "metadata": {},
   "outputs": [],
   "source": []
  },
  {
   "cell_type": "code",
   "execution_count": null,
   "id": "4e401f0b",
   "metadata": {},
   "outputs": [],
   "source": []
  },
  {
   "cell_type": "code",
   "execution_count": null,
   "id": "51c6a961",
   "metadata": {},
   "outputs": [],
   "source": []
  },
  {
   "cell_type": "code",
   "execution_count": null,
   "id": "5646c944",
   "metadata": {},
   "outputs": [],
   "source": []
  },
  {
   "cell_type": "code",
   "execution_count": null,
   "id": "31512db7",
   "metadata": {},
   "outputs": [],
   "source": []
  },
  {
   "cell_type": "code",
   "execution_count": null,
   "id": "8fb387db",
   "metadata": {},
   "outputs": [],
   "source": []
  },
  {
   "cell_type": "code",
   "execution_count": null,
   "id": "51d83a56",
   "metadata": {},
   "outputs": [],
   "source": []
  }
 ],
 "metadata": {
  "kernelspec": {
   "display_name": "Python 3",
   "language": "python",
   "name": "python3"
  },
  "language_info": {
   "codemirror_mode": {
    "name": "ipython",
    "version": 3
   },
   "file_extension": ".py",
   "mimetype": "text/x-python",
   "name": "python",
   "nbconvert_exporter": "python",
   "pygments_lexer": "ipython3",
   "version": "3.8.8"
  },
  "varInspector": {
   "cols": {
    "lenName": 16,
    "lenType": 16,
    "lenVar": 40
   },
   "kernels_config": {
    "python": {
     "delete_cmd_postfix": "",
     "delete_cmd_prefix": "del ",
     "library": "var_list.py",
     "varRefreshCmd": "print(var_dic_list())"
    },
    "r": {
     "delete_cmd_postfix": ") ",
     "delete_cmd_prefix": "rm(",
     "library": "var_list.r",
     "varRefreshCmd": "cat(var_dic_list()) "
    }
   },
   "types_to_exclude": [
    "module",
    "function",
    "builtin_function_or_method",
    "instance",
    "_Feature"
   ],
   "window_display": false
  }
 },
 "nbformat": 4,
 "nbformat_minor": 5
}
